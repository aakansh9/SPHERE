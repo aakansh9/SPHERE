{
 "cells": [
  {
   "cell_type": "code",
   "execution_count": 1,
   "metadata": {
    "collapsed": true
   },
   "outputs": [],
   "source": [
    "import pandas as pd\n",
    "import numpy as np\n",
    "import sklearn"
   ]
  },
  {
   "cell_type": "code",
   "execution_count": 2,
   "metadata": {
    "collapsed": true
   },
   "outputs": [],
   "source": [
    "feats1 = pd.read_csv('/SPHERE-Challenge/data/working/features/features1/feats1.csv')\n",
    "targets1 = pd.read_csv('/SPHERE-Challenge/data/working/features/features1/targets1.csv')"
   ]
  },
  {
   "cell_type": "code",
   "execution_count": 12,
   "metadata": {
    "collapsed": false
   },
   "outputs": [],
   "source": [
    "train_feat = feats1.iloc[0:12900, ]\n",
    "train_target = targets1.iloc[0:12900, ]\n",
    "test_feat = feats1.iloc[12900:16124, ]\n",
    "test_target = targets1.iloc[12900:16124, ]\n"
   ]
  },
  {
   "cell_type": "code",
   "execution_count": 14,
   "metadata": {
    "collapsed": false
   },
   "outputs": [],
   "source": [
    "# impute missing values\n",
    "from sklearn.preprocessing import Imputer\n",
    "imputer = Imputer()\n",
    "imputer.fit(train_feat)\n",
    "train_feat = imputer.transform(train_feat)\n",
    "test_feat = imputer.transform(test_feat)"
   ]
  },
  {
   "cell_type": "code",
   "execution_count": 19,
   "metadata": {
    "collapsed": false
   },
   "outputs": [
    {
     "data": {
      "text/plain": [
       "(12900, 63)"
      ]
     },
     "execution_count": 19,
     "metadata": {},
     "output_type": "execute_result"
    }
   ],
   "source": [
    "# custom knn classifier\n",
    "from sklearn.neighbors import NearestNeighbors\n",
    "\n",
    "class ProbabilisticKNN(NearestNeighbors):\n",
    "    \n",
    "    def __init__(self, n_neighbors):\n",
    "        super(ProbabilisticKNN, self).__init__(n_neighbours)\n",
    "        "
   ]
  },
  {
   "cell_type": "code",
   "execution_count": null,
   "metadata": {
    "collapsed": true
   },
   "outputs": [],
   "source": []
  }
 ],
 "metadata": {
  "kernelspec": {
   "display_name": "Python 3",
   "language": "python",
   "name": "python3"
  },
  "language_info": {
   "codemirror_mode": {
    "name": "ipython",
    "version": 3
   },
   "file_extension": ".py",
   "mimetype": "text/x-python",
   "name": "python",
   "nbconvert_exporter": "python",
   "pygments_lexer": "ipython3",
   "version": "3.5.1"
  }
 },
 "nbformat": 4,
 "nbformat_minor": 0
}
